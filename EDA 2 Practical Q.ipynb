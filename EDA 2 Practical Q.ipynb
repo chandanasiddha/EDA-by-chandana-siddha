{
 "cells": [
  {
   "cell_type": "markdown",
   "metadata": {
    "id": "ctak3Rv_p-Zk"
   },
   "source": [
    "### import and load the dataset"
   ]
  },
  {
   "cell_type": "code",
   "execution_count": null,
   "metadata": {
    "id": "pYUdo0rAqW2e"
   },
   "outputs": [],
   "source": [
    "from google.colab import drive\n",
    "drive.mount('/content/drive')"
   ]
  },
  {
   "cell_type": "code",
   "execution_count": null,
   "metadata": {
    "id": "gdgH1jyXp-zQ"
   },
   "outputs": [],
   "source": [
    "import pandas as pd\n",
    "import numpy as np\n",
    "import seaborn as sns\n",
    "import matplotlib.pyplot as plt\n",
    "\n",
    "df = pd.read_csv('https://drive.google.com/file/d/1uoc9daPZEQFzkOvaavCy4z3akwOPClhy/view?usp=drive_link')\n",
    "df.head()"
   ]
  },
  {
   "cell_type": "code",
   "execution_count": null,
   "metadata": {
    "id": "zq2rvXpVqvbO"
   },
   "outputs": [],
   "source": [
    "df.shape"
   ]
  },
  {
   "cell_type": "markdown",
   "metadata": {
    "id": "kacDuM0cnm_Y"
   },
   "source": [
    "### Q1. What is the average selling price of cars for each dealer and how does it compare across different dealers?"
   ]
  },
  {
   "cell_type": "code",
   "execution_count": 1,
   "metadata": {
    "id": "TpZxfOdwnk5o"
   },
   "outputs": [
    {
     "ename": "NameError",
     "evalue": "name 'df' is not defined",
     "output_type": "error",
     "traceback": [
      "\u001b[1;31m---------------------------------------------------------------------------\u001b[0m",
      "\u001b[1;31mNameError\u001b[0m                                 Traceback (most recent call last)",
      "Cell \u001b[1;32mIn[1], line 2\u001b[0m\n\u001b[0;32m      1\u001b[0m \u001b[38;5;66;03m# Grouping by dealer name and calculating average selling price, then sorting by price\u001b[39;00m\n\u001b[1;32m----> 2\u001b[0m df\u001b[38;5;241m.\u001b[39mgroupby(\u001b[38;5;124m'\u001b[39m\u001b[38;5;124mDealer_Name\u001b[39m\u001b[38;5;124m'\u001b[39m)[\u001b[38;5;124m'\u001b[39m\u001b[38;5;124mPrice ($)\u001b[39m\u001b[38;5;124m'\u001b[39m]\u001b[38;5;241m.\u001b[39mmean()\u001b[38;5;241m.\u001b[39msort_values(ascending\u001b[38;5;241m=\u001b[39m\u001b[38;5;28;01mFalse\u001b[39;00m)\n",
      "\u001b[1;31mNameError\u001b[0m: name 'df' is not defined"
     ]
    }
   ],
   "source": [
    "# Grouping by dealer name and calculating average selling price, then sorting by price\n",
    "df.groupby('Dealer_Name')['Price ($)'].mean().sort_values(ascending=False)"
   ]
  },
  {
   "cell_type": "markdown",
   "metadata": {
    "id": "1CeK9A-inwrF"
   },
   "source": [
    "### Q2. Which car brand (Company) has the highest variation in prices, and what does this tell us about the pricing trends?"
   ]
  },
  {
   "cell_type": "code",
   "execution_count": null,
   "metadata": {
    "id": "qa1Y8BUTnwTQ"
   },
   "outputs": [],
   "source": [
    "# Calculating the price range (max - min) for each car brand\n",
    "df.groupby('Company')['Price ($)'].agg(['min', 'max', 'mean']).assign(price_range=lambda x: x['max'] - x['min'])"
   ]
  },
  {
   "cell_type": "markdown",
   "metadata": {
    "id": "OHzw-b2CnwMM"
   },
   "source": [
    "### Q3. What is the distribution of car prices for each transmission type, and how do the interquartile ranges compare?"
   ]
  },
  {
   "cell_type": "code",
   "execution_count": null,
   "metadata": {
    "id": "NDr5pz0cnwGC"
   },
   "outputs": [],
   "source": [
    "# Plotting boxplot for car prices by transmission type to visualize distribution and interquartile ranges\n",
    "sns.boxplot(data=df, x='Transmission', y='Price ($)')"
   ]
  },
  {
   "cell_type": "markdown",
   "metadata": {
    "id": "vYn4f1W-nv_X"
   },
   "source": [
    "### Q4. What is the distribution of car prices across different regions?"
   ]
  },
  {
   "cell_type": "code",
   "execution_count": null,
   "metadata": {
    "id": "_dKMh78Qnv4t"
   },
   "outputs": [],
   "source": [
    "# Plotting the distribution of car prices across different dealer regions\n",
    "df.boxplot(column='Price ($)', by='Dealer_Region', grid=False)"
   ]
  },
  {
   "cell_type": "markdown",
   "metadata": {
    "id": "iFFWHkEDnvyX"
   },
   "source": [
    "### Q5. What is the distribution of cars based on body styles?"
   ]
  },
  {
   "cell_type": "code",
   "execution_count": null,
   "metadata": {
    "id": "hel-V-fHnvq_"
   },
   "outputs": [],
   "source": [
    "# Getting the count of cars by body style\n",
    "df['Body Style'].value_counts()"
   ]
  },
  {
   "cell_type": "markdown",
   "metadata": {
    "id": "XVRhgtfmnvkt"
   },
   "source": [
    "### Q6. How does the average selling price of cars vary by customer gender and annual income?"
   ]
  },
  {
   "cell_type": "code",
   "execution_count": null,
   "metadata": {
    "id": "-aO9lxB1nvdl"
   },
   "outputs": [],
   "source": [
    "# Grouping by gender and calculating average price and annual income\n",
    "df.groupby('Gender').agg({'Price ($)': 'mean', 'Annual Income': 'mean'})"
   ]
  },
  {
   "cell_type": "markdown",
   "metadata": {
    "id": "PbOREtACnvWu"
   },
   "source": [
    "### Q7. What is the distribution of car prices by region, and how does the number of cars sold vary by region?"
   ]
  },
  {
   "cell_type": "code",
   "execution_count": null,
   "metadata": {
    "id": "oT0u1Ck5nvP-"
   },
   "outputs": [],
   "source": [
    "# Plotting distribution of car prices and counting number of cars sold by region\n",
    "fig, ax = plt.subplots(1, 2, figsize=(14, 6))\n",
    "sns.boxplot(data=df, x='Dealer_Region', y='Price ($)', ax=ax[0])\n",
    "df['Dealer_Region'].value_counts().plot(kind='bar', ax=ax[1])"
   ]
  },
  {
   "cell_type": "markdown",
   "metadata": {
    "id": "23cAYUgZnvJu"
   },
   "source": [
    "### Q8. How does the average car price differ between cars with different engine sizes?"
   ]
  },
  {
   "cell_type": "code",
   "execution_count": null,
   "metadata": {
    "id": "orhYMf8rnvCY"
   },
   "outputs": [],
   "source": [
    "# Grouping by engine size and calculating average car price\n",
    "df.groupby('Engine')['Price ($)'].mean().sort_values(ascending=False)"
   ]
  },
  {
   "cell_type": "markdown",
   "metadata": {
    "id": "_QUE_-PVnu7s"
   },
   "source": [
    "### Q9. How do car prices vary based on the customer’s annual income bracket?"
   ]
  },
  {
   "cell_type": "code",
   "execution_count": null,
   "metadata": {
    "id": "xItA0rzDnu1M"
   },
   "outputs": [],
   "source": [
    "# Creating income brackets and analyzing the average price within each bracket\n",
    "income_bins = [0, 30000, 60000, 100000, 150000, float('inf')]\n",
    "income_labels = ['0-30k', '30k-60k', '60k-100k', '100k-150k', '150k+']\n",
    "df['Income_Bracket'] = pd.cut(df['Annual Income'], bins=income_bins, labels=income_labels)\n",
    "df.groupby('Income_Bracket')['Price ($)'].mean()"
   ]
  },
  {
   "cell_type": "markdown",
   "metadata": {
    "id": "gmSZvteznuuM"
   },
   "source": [
    "### Q10. What are the top 5 car models with the highest number of sales, and how does their price distribution look?"
   ]
  },
  {
   "cell_type": "code",
   "execution_count": null,
   "metadata": {
    "id": "ykIz1ci5nunW"
   },
   "outputs": [],
   "source": [
    "# Counting the number of sales per car model and plotting their price distributions\n",
    "top_5_models = df['Model'].value_counts().head(5).index\n",
    "sns.boxplot(data=df[df['Model'].isin(top_5_models)], x='Model', y='Price ($)')"
   ]
  },
  {
   "cell_type": "markdown",
   "metadata": {
    "id": "p_mjdmbVnugm"
   },
   "source": [
    "### Q11. How does car price vary with engine size across different car colors, and which colors have the highest price variation?"
   ]
  },
  {
   "cell_type": "code",
   "execution_count": null,
   "metadata": {
    "id": "n93cHardnuZV"
   },
   "outputs": [],
   "source": [
    "# Plotting engine size vs price across different car colors and calculating price variation\n",
    "sns.scatterplot(data=df, x='Engine', y='Price ($)', hue='Color')\n",
    "df.groupby('Color')['Price ($)'].std().sort_values(ascending=False)"
   ]
  },
  {
   "cell_type": "markdown",
   "metadata": {
    "id": "k6IG38qenuSR"
   },
   "source": [
    "### Q12. Is there any seasonal trend in car sales based on the date of sale?"
   ]
  },
  {
   "cell_type": "code",
   "execution_count": null,
   "metadata": {
    "id": "UjMq1PfInuIM"
   },
   "outputs": [],
   "source": [
    "# Extracting month and year from the sale date and plotting the sales trend\n",
    "df['Sale_Month'] = pd.to_datetime(df['Date']).dt.month\n",
    "df.groupby('Sale_Month').size().plot(kind='line', title=\"Car Sales by Month\")"
   ]
  },
  {
   "cell_type": "markdown",
   "metadata": {
    "id": "7A5zeUTQnuCG"
   },
   "source": [
    "### Q13. How does the car price distribution change when considering different combinations of body style and transmission type?"
   ]
  },
  {
   "cell_type": "code",
   "execution_count": null,
   "metadata": {
    "id": "UCSpW-_Dnt7P"
   },
   "outputs": [],
   "source": [
    "# Plotting boxplots for price distribution by body style and transmission type combinations\n",
    "sns.boxplot(data=df, x='Body Style', y='Price ($)', hue='Transmission')"
   ]
  },
  {
   "cell_type": "markdown",
   "metadata": {
    "id": "8opmO5Dmnt0U"
   },
   "source": [
    "### Q14. What is the correlation between car price, engine size, and annual income of customers, and how do these features interact?"
   ]
  },
  {
   "cell_type": "code",
   "execution_count": null,
   "metadata": {
    "id": "JKC7YRF4nttl"
   },
   "outputs": [],
   "source": [
    "# Check the data types to ensure numerical columns are correct\n",
    "print(df[['Price ($)', 'Engine', 'Annual Income']].dtypes)\n",
    "\n",
    "# Calculate correlation only for numeric columns\n",
    "correlation_matrix = df[['Price ($)', 'Engine', 'Annual Income']].corr()\n",
    "print(correlation_matrix)\n",
    "\n",
    "# Visualizing the correlation with a pairplot\n",
    "sns.pairplot(df[['Price ($)', 'Engine', 'Annual Income']])"
   ]
  },
  {
   "cell_type": "markdown",
   "metadata": {
    "id": "Kn9TABfentnU"
   },
   "source": [
    "### Q15. How does the average car price vary across different car models and engine types?"
   ]
  },
  {
   "cell_type": "code",
   "execution_count": null,
   "metadata": {
    "id": "_osOQQymntg3"
   },
   "outputs": [],
   "source": [
    "# Grouping by Gender and Dealer Region, then calculating the average car price\n",
    "avg_price_by_gender_region = df.groupby(['Gender', 'Dealer_Region'])['Price ($)'].mean().unstack()\n",
    "\n",
    "# Storing the result in a DataFrame\n",
    "avg_price_df = pd.DataFrame(avg_price_by_gender_region)\n",
    "\n",
    "# Displaying the DataFrame\n",
    "avg_price_df"
   ]
  },
  {
   "cell_type": "code",
   "execution_count": null,
   "metadata": {
    "id": "ISTu1jk7nr2U"
   },
   "outputs": [],
   "source": []
  },
  {
   "cell_type": "code",
   "execution_count": null,
   "metadata": {
    "id": "XgZUbyGjnriO"
   },
   "outputs": [],
   "source": []
  }
 ],
 "metadata": {
  "colab": {
   "private_outputs": true,
   "provenance": []
  },
  "kernelspec": {
   "display_name": "Python 3 (ipykernel)",
   "language": "python",
   "name": "python3"
  },
  "language_info": {
   "codemirror_mode": {
    "name": "ipython",
    "version": 3
   },
   "file_extension": ".py",
   "mimetype": "text/x-python",
   "name": "python",
   "nbconvert_exporter": "python",
   "pygments_lexer": "ipython3",
   "version": "3.11.4"
  }
 },
 "nbformat": 4,
 "nbformat_minor": 1
}
